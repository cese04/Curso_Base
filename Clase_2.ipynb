{
 "cells": [
  {
   "cell_type": "markdown",
   "metadata": {},
   "source": [
    "# Bases de programación\n",
    "\n",
    "Definiciones breves:\n",
    "* Programa: Entendido como la herramienta que ejecuta cierto algoritmo para una entrada que soluciona cierto problema.\n",
    "* Algortmo: Compedio de pasos especificos que nos da una relación de entrada-salida de datos\n",
    "    * Problema: Entendido como procedimiento mátematico bien definido.\n",
    "* Lenguaje de programación\n",
    "    * Herramienta intermediaria entre el usuario y la computadora, para darle instrucciones especificas (Crear un programa)\n",
    "\n",
    "Caracteristicas Python:\n",
    "* Lenguaje interpretado\n",
    "* Tipado dinámico \n",
    "* Orientado a objetos\n",
    "    * Atributos\n",
    "    * Métodos\n",
    "\n"
   ]
  },
  {
   "cell_type": "markdown",
   "metadata": {},
   "source": [
    "## Python como calculadora\n",
    "---\n",
    "Operaciones elementales\n",
    "* Suma y resta\n",
    "* Producto, división y módulo\n",
    "* Exponente, logaritmo y raíces \n",
    "* Operaciones binarias (AND, OR, XOR)\n",
    "* Comparaciones (menor, mayor, igual, diferente)"
   ]
  },
  {
   "cell_type": "markdown",
   "metadata": {},
   "source": [
    "### Operaciones aritméticas"
   ]
  },
  {
   "cell_type": "code",
   "execution_count": 12,
   "metadata": {},
   "outputs": [
    {
     "name": "stdout",
     "output_type": "stream",
     "text": [
      "Resultado de 1 + 2:   3\n",
      "Resultado de 1 - 2:   -1\n",
      "Resultado de 2 * 2:   4\n",
      "Resultado de 4 / 2:   2.0\n",
      "Resultado de 3 % 2:   1\n",
      "Resultado de 3 ^ 2:   9\n",
      "Resultado de log(2):  0.6931471805599453\n"
     ]
    }
   ],
   "source": [
    "from math import *\n",
    "\n",
    "print(\"Resultado de 1 + 2:  \", 1 + 2)\n",
    "print(\"Resultado de 1 - 2:  \", 1 - 2)\n",
    "\n",
    "print(\"Resultado de 2 * 2:  \", 2 * 2)\n",
    "print(\"Resultado de 4 / 2:  \", 4 / 2)\n",
    "print(\"Resultado de 3 % 2:  \", 3 % 2)\n",
    "\n",
    "print(\"Resultado de 3 ^ 2:  \", 3 ** 2)\n",
    "print(\"Resultado de log(2): \", log(2))"
   ]
  },
  {
   "cell_type": "markdown",
   "metadata": {},
   "source": [
    "### Operaciones de comparación"
   ]
  },
  {
   "cell_type": "code",
   "execution_count": 13,
   "metadata": {},
   "outputs": [
    {
     "name": "stdout",
     "output_type": "stream",
     "text": [
      "Resultado de 3 <  2:   False\n",
      "Resultado de 3 >  2):  True\n",
      "Resultado de 3 == 2:   False\n",
      "Resultado de 3 != 2):  True\n"
     ]
    }
   ],
   "source": [
    "print(\"Resultado de 3 <  2: \", 3 <  2)\n",
    "print(\"Resultado de 3 >  2: \", 3 >  2)\n",
    "print(\"Resultado de 3 == 2: \", 3 == 2)\n",
    "print(\"Resultado de 3 != 2: \", 3 != 2)"
   ]
  },
  {
   "cell_type": "markdown",
   "metadata": {},
   "source": [
    "### Operaciones binarias"
   ]
  },
  {
   "cell_type": "code",
   "execution_count": 42,
   "metadata": {},
   "outputs": [
    {
     "name": "stdout",
     "output_type": "stream",
     "text": [
      "Resultado de FF AND F0:  0xf0\n",
      "Resultado de EA OR  8B:  0xeb\n",
      "Resultado de 88 XOR AA:  0x22\n",
      "Resultado de ~1111    : -0b10000\n"
     ]
    }
   ],
   "source": [
    "print(\"Resultado de FF AND F0: \", hex(0xFF & 0xF0))\n",
    "print(\"Resultado de EA OR  8B: \", hex(0xEA | 0x8B))\n",
    "print(\"Resultado de 88 XOR AA: \",hex(0x88 ^ 0xAA))\n",
    "print(\"Resultado de ~1111    :\",     bin(~0b1111))"
   ]
  },
  {
   "cell_type": "markdown",
   "metadata": {},
   "source": [
    "## Sentencias de Control\n",
    "---\n",
    "A continuación veremos las sentencias de control o funciones de flujo comunmente empleadas en Python\n",
    "\n",
    "* if/else  \n",
    "      Evalua una condición lógica, de ser verdadera ejecuta una parte del código(if); de falsa se ejecuta otra parte (else)\n",
    "* elif  \n",
    "      Permite evaluar una segunda condición lógica en caso de que el resultado del if sea falso\n",
    "* while  \n",
    "      Repetira su contenido mientras la sentencia a evaluar sea verdadera \n",
    "* for  \n",
    "      Repetira su contenido mientras itera sobre un conjunto de valores especificos"
   ]
  },
  {
   "cell_type": "code",
   "execution_count": 62,
   "metadata": {},
   "outputs": [
    {
     "name": "stdout",
     "output_type": "stream",
     "text": [
      "Es par\n"
     ]
    }
   ],
   "source": [
    "#Ejemplo de if, else.\n",
    "Variable = 4;\n",
    "\n",
    "if (Variable % 2) == 0:\n",
    "    print (\"Es par\")\n",
    "else: \n",
    "    print (\"Es impar\")"
   ]
  },
  {
   "cell_type": "code",
   "execution_count": 66,
   "metadata": {},
   "outputs": [
    {
     "name": "stdout",
     "output_type": "stream",
     "text": [
      "2 elevado a 0 es:  1\n",
      "2 elevado a 1 es:  2\n",
      "2 elevado a 2 es:  4\n",
      "2 elevado a 3 es:  8\n",
      "2 elevado a 4 es:  16\n"
     ]
    }
   ],
   "source": [
    "#Ejemplo de for\n",
    "\n",
    "for i in range(0, 5):\n",
    "    print(\"2 elevado a\",i, \"es: \",2**i)"
   ]
  },
  {
   "cell_type": "code",
   "execution_count": 68,
   "metadata": {},
   "outputs": [
    {
     "name": "stdout",
     "output_type": "stream",
     "text": [
      "Multiplos de 7 menores a:  40\n",
      "7\n",
      "14\n",
      "21\n",
      "28\n",
      "35\n"
     ]
    }
   ],
   "source": [
    "#Ejemplo simple de while\n",
    "Limite = 40 \n",
    "print(\"Multiplos de 7 menores a: \", Limite)\n",
    "Acumulador = 7\n",
    "while Acumulador<Limite:\n",
    "    print(Acumulador)\n",
    "    Acumulador+=7\n",
    "    "
   ]
  },
  {
   "cell_type": "markdown",
   "metadata": {},
   "source": [
    "## Función\n",
    "---\n",
    "Fragmento de código que está asociado a cierta tarea, devolviendo un valor (No hay procedimietos) y reutilizable.\n",
    "\n",
    "Python ofrece el uso de paqueterias con funciones previamente definidas. Estas están usualmente relacionadas a cierto tena o ambito.\n",
    "\n",
    "Es posible definir nuestras propias funciones con la palabra reservada **def**"
   ]
  },
  {
   "cell_type": "code",
   "execution_count": 98,
   "metadata": {},
   "outputs": [],
   "source": [
    "def es_primo(Entrada):\n",
    "    a = True\n",
    "    for i in range(2, Entrada):\n",
    "        if (Entrada % i)==0:\n",
    "            a = False\n",
    "            return a\n",
    "    return a\n",
    "        \n",
    "        "
   ]
  },
  {
   "cell_type": "code",
   "execution_count": 99,
   "metadata": {},
   "outputs": [
    {
     "data": {
      "text/plain": [
       "True"
      ]
     },
     "execution_count": 99,
     "metadata": {},
     "output_type": "execute_result"
    }
   ],
   "source": [
    "es_primo(2)"
   ]
  },
  {
   "cell_type": "code",
   "execution_count": null,
   "metadata": {},
   "outputs": [],
   "source": []
  },
  {
   "cell_type": "code",
   "execution_count": 100,
   "metadata": {},
   "outputs": [],
   "source": [
    "def primo_hasta_limite(N):\n",
    "    for i in range(2, N+1):\n",
    "        if es_primo(i)==True:\n",
    "            print(i)"
   ]
  },
  {
   "cell_type": "code",
   "execution_count": 101,
   "metadata": {},
   "outputs": [
    {
     "name": "stdout",
     "output_type": "stream",
     "text": [
      "2\n",
      "3\n",
      "5\n",
      "7\n",
      "11\n",
      "13\n",
      "17\n",
      "19\n",
      "23\n",
      "29\n",
      "31\n",
      "37\n",
      "41\n",
      "43\n",
      "47\n",
      "53\n",
      "59\n",
      "61\n",
      "67\n",
      "71\n",
      "73\n",
      "79\n",
      "83\n",
      "89\n",
      "97\n"
     ]
    }
   ],
   "source": [
    "primo_hasta_limite(100)\n"
   ]
  },
  {
   "cell_type": "code",
   "execution_count": null,
   "metadata": {},
   "outputs": [],
   "source": []
  }
 ],
 "metadata": {
  "kernelspec": {
   "display_name": "Python 3",
   "language": "python",
   "name": "python3"
  },
  "language_info": {
   "codemirror_mode": {
    "name": "ipython",
    "version": 3
   },
   "file_extension": ".py",
   "mimetype": "text/x-python",
   "name": "python",
   "nbconvert_exporter": "python",
   "pygments_lexer": "ipython3",
   "version": "3.6.6"
  }
 },
 "nbformat": 4,
 "nbformat_minor": 2
}
